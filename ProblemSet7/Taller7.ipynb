{
  "nbformat": 4,
  "nbformat_minor": 0,
  "metadata": {
    "colab": {
      "provenance": []
    },
    "kernelspec": {
      "name": "python3",
      "display_name": "Python 3"
    },
    "language_info": {
      "name": "python"
    }
  },
  "cells": [
    {
      "cell_type": "markdown",
      "source": [
        "A. Clasificación Estelar.\n",
        "\n",
        "En este repositorio se consigna un conjunto de datos con información de diversas características\n",
        "físicas de las estrellas. El objetivo final es lograr entrenar un algoritmo de clasificación, basado en\n",
        "arboles de decisión, que permita obtener el tipo estelar a partir de las demás características físicas.\n",
        "\n",
        "El archivo fue tomado de la página\n",
        "\n",
        "https://www.kaggle.com/datasets/deepu1109/star-dataset\n",
        "\n",
        "del autor Deepraj Baidya. El conjunto de datos contiene las siguientes características:\n",
        "- emperatura absoluta (K)\n",
        "- Lumiosidad relativa (L/L⊙ )\n",
        "- Radio relativo (R/R⊙ )\n",
        "- Magnitud absoluta (Mv )\n",
        "- Color estelar (white, red, blue, - - yellow, etc.)\n",
        "- Clase espectral (O,B,A,F,G,K,M)\n",
        "- Tipo estelar (Red Warf, Brown Warf, White Dwarf, Main Sequence, Supergiant, Hypergiant)\n",
        "\n",
        "Se incluyen 240 objetos y contiene tanto datos observacionales como sintéticos. La codificación de las\n",
        "etiquetas es la siguiente:\n",
        "- Brown Dwarf → Star Type = 0\n",
        "- Red Dwarf → Star Type = 1\n",
        "- White Dwarf → Star Type = 2\n",
        "- Main Sequence → Star Type = 3\n",
        "- Supergiant → Star Type = 4\n",
        "- Hypergiant → Star Type = 5"
      ],
      "metadata": {
        "id": "kT7_nBv6yTqa"
      }
    },
    {
      "cell_type": "code",
      "execution_count": 41,
      "metadata": {
        "id": "ifPL6s8QTueW"
      },
      "outputs": [],
      "source": [
        "import pandas as pd\n",
        "import numpy as np\n",
        "import matplotlib.pyplot as plt\n",
        "from sklearn.model_selection import train_test_split\n",
        "from sklearn.tree import DecisionTreeRegressor\n",
        "from sklearn.preprocessing import OrdinalEncoder"
      ]
    },
    {
      "cell_type": "code",
      "source": [
        "#Importar los datos de csv a colab\n",
        "from google.colab import drive \n",
        "drive.mount('/content/drive')"
      ],
      "metadata": {
        "id": "raFDqOXWVsot",
        "colab": {
          "base_uri": "https://localhost:8080/"
        },
        "outputId": "8f38b5f5-1882-4e05-e340-31f93aa61f1e"
      },
      "execution_count": null,
      "outputs": [
        {
          "output_type": "stream",
          "name": "stdout",
          "text": [
            "Drive already mounted at /content/drive; to attempt to forcibly remount, call drive.mount(\"/content/drive\", force_remount=True).\n"
          ]
        }
      ]
    },
    {
      "cell_type": "code",
      "source": [
        "#Datos\n",
        "Stars=pd.read_csv('/content/drive/Shareddrives/Astrofísica Computacional/Taller 7/6class.csv')\n",
        "Stars"
      ],
      "metadata": {
        "id": "LhaVbM3YVnAt",
        "colab": {
          "base_uri": "https://localhost:8080/",
          "height": 424
        },
        "outputId": "209b2fdb-cd52-4e42-fc57-ab40c8c0febc"
      },
      "execution_count": 48,
      "outputs": [
        {
          "output_type": "execute_result",
          "data": {
            "text/plain": [
              "     Temperature (K)  Luminosity(L/Lo)  Radius(R/Ro)  Absolute magnitude(Mv)  \\\n",
              "0               3068          0.002400        0.1700                   16.12   \n",
              "1               3042          0.000500        0.1542                   16.60   \n",
              "2               2600          0.000300        0.1020                   18.70   \n",
              "3               2800          0.000200        0.1600                   16.65   \n",
              "4               1939          0.000138        0.1030                   20.06   \n",
              "..               ...               ...           ...                     ...   \n",
              "235            38940     374830.000000     1356.0000                   -9.93   \n",
              "236            30839     834042.000000     1194.0000                  -10.63   \n",
              "237             8829     537493.000000     1423.0000                  -10.73   \n",
              "238             9235     404940.000000     1112.0000                  -11.23   \n",
              "239            37882     294903.000000     1783.0000                   -7.80   \n",
              "\n",
              "     Star type Star color Spectral Class  \n",
              "0            0        Red              M  \n",
              "1            0        Red              M  \n",
              "2            0        Red              M  \n",
              "3            0        Red              M  \n",
              "4            0        Red              M  \n",
              "..         ...        ...            ...  \n",
              "235          5       Blue              O  \n",
              "236          5       Blue              O  \n",
              "237          5      White              A  \n",
              "238          5      White              A  \n",
              "239          5       Blue              O  \n",
              "\n",
              "[240 rows x 7 columns]"
            ],
            "text/html": [
              "\n",
              "  <div id=\"df-f3d69ed6-98b7-44db-8d15-b98d85c87c10\">\n",
              "    <div class=\"colab-df-container\">\n",
              "      <div>\n",
              "<style scoped>\n",
              "    .dataframe tbody tr th:only-of-type {\n",
              "        vertical-align: middle;\n",
              "    }\n",
              "\n",
              "    .dataframe tbody tr th {\n",
              "        vertical-align: top;\n",
              "    }\n",
              "\n",
              "    .dataframe thead th {\n",
              "        text-align: right;\n",
              "    }\n",
              "</style>\n",
              "<table border=\"1\" class=\"dataframe\">\n",
              "  <thead>\n",
              "    <tr style=\"text-align: right;\">\n",
              "      <th></th>\n",
              "      <th>Temperature (K)</th>\n",
              "      <th>Luminosity(L/Lo)</th>\n",
              "      <th>Radius(R/Ro)</th>\n",
              "      <th>Absolute magnitude(Mv)</th>\n",
              "      <th>Star type</th>\n",
              "      <th>Star color</th>\n",
              "      <th>Spectral Class</th>\n",
              "    </tr>\n",
              "  </thead>\n",
              "  <tbody>\n",
              "    <tr>\n",
              "      <th>0</th>\n",
              "      <td>3068</td>\n",
              "      <td>0.002400</td>\n",
              "      <td>0.1700</td>\n",
              "      <td>16.12</td>\n",
              "      <td>0</td>\n",
              "      <td>Red</td>\n",
              "      <td>M</td>\n",
              "    </tr>\n",
              "    <tr>\n",
              "      <th>1</th>\n",
              "      <td>3042</td>\n",
              "      <td>0.000500</td>\n",
              "      <td>0.1542</td>\n",
              "      <td>16.60</td>\n",
              "      <td>0</td>\n",
              "      <td>Red</td>\n",
              "      <td>M</td>\n",
              "    </tr>\n",
              "    <tr>\n",
              "      <th>2</th>\n",
              "      <td>2600</td>\n",
              "      <td>0.000300</td>\n",
              "      <td>0.1020</td>\n",
              "      <td>18.70</td>\n",
              "      <td>0</td>\n",
              "      <td>Red</td>\n",
              "      <td>M</td>\n",
              "    </tr>\n",
              "    <tr>\n",
              "      <th>3</th>\n",
              "      <td>2800</td>\n",
              "      <td>0.000200</td>\n",
              "      <td>0.1600</td>\n",
              "      <td>16.65</td>\n",
              "      <td>0</td>\n",
              "      <td>Red</td>\n",
              "      <td>M</td>\n",
              "    </tr>\n",
              "    <tr>\n",
              "      <th>4</th>\n",
              "      <td>1939</td>\n",
              "      <td>0.000138</td>\n",
              "      <td>0.1030</td>\n",
              "      <td>20.06</td>\n",
              "      <td>0</td>\n",
              "      <td>Red</td>\n",
              "      <td>M</td>\n",
              "    </tr>\n",
              "    <tr>\n",
              "      <th>...</th>\n",
              "      <td>...</td>\n",
              "      <td>...</td>\n",
              "      <td>...</td>\n",
              "      <td>...</td>\n",
              "      <td>...</td>\n",
              "      <td>...</td>\n",
              "      <td>...</td>\n",
              "    </tr>\n",
              "    <tr>\n",
              "      <th>235</th>\n",
              "      <td>38940</td>\n",
              "      <td>374830.000000</td>\n",
              "      <td>1356.0000</td>\n",
              "      <td>-9.93</td>\n",
              "      <td>5</td>\n",
              "      <td>Blue</td>\n",
              "      <td>O</td>\n",
              "    </tr>\n",
              "    <tr>\n",
              "      <th>236</th>\n",
              "      <td>30839</td>\n",
              "      <td>834042.000000</td>\n",
              "      <td>1194.0000</td>\n",
              "      <td>-10.63</td>\n",
              "      <td>5</td>\n",
              "      <td>Blue</td>\n",
              "      <td>O</td>\n",
              "    </tr>\n",
              "    <tr>\n",
              "      <th>237</th>\n",
              "      <td>8829</td>\n",
              "      <td>537493.000000</td>\n",
              "      <td>1423.0000</td>\n",
              "      <td>-10.73</td>\n",
              "      <td>5</td>\n",
              "      <td>White</td>\n",
              "      <td>A</td>\n",
              "    </tr>\n",
              "    <tr>\n",
              "      <th>238</th>\n",
              "      <td>9235</td>\n",
              "      <td>404940.000000</td>\n",
              "      <td>1112.0000</td>\n",
              "      <td>-11.23</td>\n",
              "      <td>5</td>\n",
              "      <td>White</td>\n",
              "      <td>A</td>\n",
              "    </tr>\n",
              "    <tr>\n",
              "      <th>239</th>\n",
              "      <td>37882</td>\n",
              "      <td>294903.000000</td>\n",
              "      <td>1783.0000</td>\n",
              "      <td>-7.80</td>\n",
              "      <td>5</td>\n",
              "      <td>Blue</td>\n",
              "      <td>O</td>\n",
              "    </tr>\n",
              "  </tbody>\n",
              "</table>\n",
              "<p>240 rows × 7 columns</p>\n",
              "</div>\n",
              "      <button class=\"colab-df-convert\" onclick=\"convertToInteractive('df-f3d69ed6-98b7-44db-8d15-b98d85c87c10')\"\n",
              "              title=\"Convert this dataframe to an interactive table.\"\n",
              "              style=\"display:none;\">\n",
              "        \n",
              "  <svg xmlns=\"http://www.w3.org/2000/svg\" height=\"24px\"viewBox=\"0 0 24 24\"\n",
              "       width=\"24px\">\n",
              "    <path d=\"M0 0h24v24H0V0z\" fill=\"none\"/>\n",
              "    <path d=\"M18.56 5.44l.94 2.06.94-2.06 2.06-.94-2.06-.94-.94-2.06-.94 2.06-2.06.94zm-11 1L8.5 8.5l.94-2.06 2.06-.94-2.06-.94L8.5 2.5l-.94 2.06-2.06.94zm10 10l.94 2.06.94-2.06 2.06-.94-2.06-.94-.94-2.06-.94 2.06-2.06.94z\"/><path d=\"M17.41 7.96l-1.37-1.37c-.4-.4-.92-.59-1.43-.59-.52 0-1.04.2-1.43.59L10.3 9.45l-7.72 7.72c-.78.78-.78 2.05 0 2.83L4 21.41c.39.39.9.59 1.41.59.51 0 1.02-.2 1.41-.59l7.78-7.78 2.81-2.81c.8-.78.8-2.07 0-2.86zM5.41 20L4 18.59l7.72-7.72 1.47 1.35L5.41 20z\"/>\n",
              "  </svg>\n",
              "      </button>\n",
              "      \n",
              "  <style>\n",
              "    .colab-df-container {\n",
              "      display:flex;\n",
              "      flex-wrap:wrap;\n",
              "      gap: 12px;\n",
              "    }\n",
              "\n",
              "    .colab-df-convert {\n",
              "      background-color: #E8F0FE;\n",
              "      border: none;\n",
              "      border-radius: 50%;\n",
              "      cursor: pointer;\n",
              "      display: none;\n",
              "      fill: #1967D2;\n",
              "      height: 32px;\n",
              "      padding: 0 0 0 0;\n",
              "      width: 32px;\n",
              "    }\n",
              "\n",
              "    .colab-df-convert:hover {\n",
              "      background-color: #E2EBFA;\n",
              "      box-shadow: 0px 1px 2px rgba(60, 64, 67, 0.3), 0px 1px 3px 1px rgba(60, 64, 67, 0.15);\n",
              "      fill: #174EA6;\n",
              "    }\n",
              "\n",
              "    [theme=dark] .colab-df-convert {\n",
              "      background-color: #3B4455;\n",
              "      fill: #D2E3FC;\n",
              "    }\n",
              "\n",
              "    [theme=dark] .colab-df-convert:hover {\n",
              "      background-color: #434B5C;\n",
              "      box-shadow: 0px 1px 3px 1px rgba(0, 0, 0, 0.15);\n",
              "      filter: drop-shadow(0px 1px 2px rgba(0, 0, 0, 0.3));\n",
              "      fill: #FFFFFF;\n",
              "    }\n",
              "  </style>\n",
              "\n",
              "      <script>\n",
              "        const buttonEl =\n",
              "          document.querySelector('#df-f3d69ed6-98b7-44db-8d15-b98d85c87c10 button.colab-df-convert');\n",
              "        buttonEl.style.display =\n",
              "          google.colab.kernel.accessAllowed ? 'block' : 'none';\n",
              "\n",
              "        async function convertToInteractive(key) {\n",
              "          const element = document.querySelector('#df-f3d69ed6-98b7-44db-8d15-b98d85c87c10');\n",
              "          const dataTable =\n",
              "            await google.colab.kernel.invokeFunction('convertToInteractive',\n",
              "                                                     [key], {});\n",
              "          if (!dataTable) return;\n",
              "\n",
              "          const docLinkHtml = 'Like what you see? Visit the ' +\n",
              "            '<a target=\"_blank\" href=https://colab.research.google.com/notebooks/data_table.ipynb>data table notebook</a>'\n",
              "            + ' to learn more about interactive tables.';\n",
              "          element.innerHTML = '';\n",
              "          dataTable['output_type'] = 'display_data';\n",
              "          await google.colab.output.renderOutput(dataTable, element);\n",
              "          const docLink = document.createElement('div');\n",
              "          docLink.innerHTML = docLinkHtml;\n",
              "          element.appendChild(docLink);\n",
              "        }\n",
              "      </script>\n",
              "    </div>\n",
              "  </div>\n",
              "  "
            ]
          },
          "metadata": {},
          "execution_count": 48
        }
      ]
    },
    {
      "cell_type": "code",
      "source": [
        "#Codificación ordinal\n",
        "\n",
        "SpectralClass = OrdinalEncoder(categories=[['O','B','A','F','G','K','M']])\n",
        "SpectralClass.fit(Stars[[\"Spectral Class\"]])\n",
        "Stars[\"Spectral Class\"] = SpectralClass.transform(Stars[[\"Spectral Class\"]])\n",
        "\n",
        "#StarColor = OrdinalEncoder(categories=[['white','Red','Blue','Yellow','yellow-orange','Blue White','Yellowish White','Pale yellow orange','Blue-white','yellow-white','\tWhitish','yellow-white','Orange','White-Yellow','yellowish','\tYellowish','Orange-Red','Blue white','White']])\n",
        "#StarColor.fit(Stars[[\"Star color\"]])\n",
        "#Stars[\"Star color\"] = StarColor.transform(Stars[[\"Star color\"]])"
      ],
      "metadata": {
        "id": "X569epj_7UEl"
      },
      "execution_count": 49,
      "outputs": []
    },
    {
      "cell_type": "code",
      "source": [
        "#Definición de los target (tipo de estrellas) \n",
        "Type = np.array(Stars['Star type'])\n",
        "\n",
        "#Definición de los features (caracteristicas)\n",
        "fs = Stars.copy()\n",
        "del fs['Star type']\n",
        "del fs['Star color']\n",
        "#del fs['Spectral Class']\n",
        "fs = np.array(fs)\n",
        "\n",
        "fs.shape, Type.shape"
      ],
      "metadata": {
        "colab": {
          "base_uri": "https://localhost:8080/"
        },
        "id": "c96sfzcFXADP",
        "outputId": "7019ce38-f7cd-49c1-baf1-9b16c9451db9"
      },
      "execution_count": 50,
      "outputs": [
        {
          "output_type": "execute_result",
          "data": {
            "text/plain": [
              "((240, 5), (240,))"
            ]
          },
          "metadata": {},
          "execution_count": 50
        }
      ]
    },
    {
      "cell_type": "code",
      "source": [
        "#Creación de la base de entrenamiento y de prueba\n",
        "train_features, test_features, train_targets, test_targets = train_test_split(fs, Type, random_state=60, test_size=0.3)\n",
        "train_features.shape, test_features.shape, train_targets.shape, test_targets.shape"
      ],
      "metadata": {
        "id": "eiIfWRsPXOu_",
        "colab": {
          "base_uri": "https://localhost:8080/"
        },
        "outputId": "616959d1-36cb-4679-ca93-4fdb8b8391fb"
      },
      "execution_count": 51,
      "outputs": [
        {
          "output_type": "execute_result",
          "data": {
            "text/plain": [
              "((168, 5), (72, 5), (168,), (72,))"
            ]
          },
          "metadata": {},
          "execution_count": 51
        }
      ]
    },
    {
      "cell_type": "code",
      "source": [
        "#Comprobación del error de los datos en función de la profundidad del árbol\n",
        "Prof  = range(1,40)\n",
        "Test  = np.zeros(len(Prof))\n",
        "Train = np.zeros(len(Prof))\n",
        "\n",
        "for i in range(len(Prof)):\n",
        "  #Definición del árbol de decisión\n",
        "  Mytree = DecisionTreeRegressor(max_depth=Prof[i])\n",
        "  #Entrenamiento del modelo\n",
        "  Mytree.fit(train_features, train_targets)\n",
        "  #predicciónes\n",
        "  Ptest = Mytree.predict(test_features)\n",
        "  Ptrain = Mytree.predict(train_features)\n",
        "  #Mediana de los residuales\n",
        "  Test[i]  = np.median(np.abs(Ptest - test_targets))\n",
        "  Train[i] = np.median(np.abs(Ptrain - train_targets))\n",
        "\n",
        "#Plot\n",
        "plt.figure(figsize=(10,8))\n",
        "plt.plot(Prof, Test , label='Conjunto de prueba')\n",
        "plt.plot(Prof, Train, label='Conjunto de entrenamiento')\n",
        "plt.xlabel(r'Profundidad del árbol')\n",
        "plt.ylabel(r'Mediana del residual')\n",
        "plt.legend()\n",
        "plt.show()"
      ],
      "metadata": {
        "id": "Eihy3HVhisxv",
        "colab": {
          "base_uri": "https://localhost:8080/",
          "height": 497
        },
        "outputId": "362f0af7-a36b-4ec4-f219-2258a3bf1336"
      },
      "execution_count": 52,
      "outputs": [
        {
          "output_type": "display_data",
          "data": {
            "text/plain": [
              "<Figure size 720x576 with 1 Axes>"
            ],
            "image/png": "[encoded data removed]"
          },
          "metadata": {
            "needs_background": "light"
          }
        }
      ]
    },
    {
      "cell_type": "code",
      "source": [
        "#Entrenamiento del modelo\n",
        "Mytree = DecisionTreeRegressor(max_depth=5)\n",
        "Mytree.fit(train_features, train_targets)\n",
        "\n",
        "#Creación de array de predicciónes con los datos de prueba\n",
        "predictions = Mytree.predict(test_features)\n",
        "predictions_Mytree = np.zeros(len(predictions),dtype=int )\n",
        "\n",
        "\n",
        "for i in range(0,len(predictions_Mytree)):\n",
        "  predictions_Mytree[i] = int(predictions[i])\n",
        "\n",
        "#Mediana de los residuales \n",
        "eval_Mytree = np.median(np.abs(predictions_Mytree - test_targets))\n",
        "eval_Mytree"
      ],
      "metadata": {
        "id": "tGK7q-kueosS",
        "colab": {
          "base_uri": "https://localhost:8080/"
        },
        "outputId": "70cc6be4-be0f-4b32-e767-5b9705570030"
      },
      "execution_count": 53,
      "outputs": [
        {
          "output_type": "execute_result",
          "data": {
            "text/plain": [
              "0.0"
            ]
          },
          "metadata": {},
          "execution_count": 53
        }
      ]
    },
    {
      "cell_type": "code",
      "source": [
        "#Creando el data frame de test_features\n",
        "column_values = ['Temperature (K)',\t'Luminosity(L/Lo)',\t'Radius(R/Ro)','Absolute magnitude(Mv)','Spectral Class']\n",
        "\n",
        "test = pd.DataFrame(data = test_features,  \n",
        "                  columns = column_values)\n",
        "\n",
        "#Creando el data frame de test_targets\n",
        "column_value = ['Real star type']\n",
        "testt = pd.DataFrame(data = test_targets,\n",
        "                     columns = column_value)\n",
        "\n",
        "#Creando el data frame de predictions\n",
        "column_value = ['Star type predicted']\n",
        "predictions = pd.DataFrame(data = predictions_Mytree,\n",
        "                     columns = column_value)\n",
        "\n",
        "#Union de los dataframes del testeo\n",
        "test['Real star type'] = testt['Real star type']\n",
        "test['Star type predicted'] = predictions['Star type predicted']\n",
        "test\n",
        "\n"
      ],
      "metadata": {
        "colab": {
          "base_uri": "https://localhost:8080/",
          "height": 424
        },
        "id": "OVtQ40C6hB7a",
        "outputId": "fc042c54-d272-4dc0-ade3-ca0ce6492a55"
      },
      "execution_count": 55,
      "outputs": [
        {
          "output_type": "execute_result",
          "data": {
            "text/plain": [
              "    Temperature (K)  Luminosity(L/Lo)  Radius(R/Ro)  Absolute magnitude(Mv)  \\\n",
              "0            3100.0          0.008000       0.31000                   11.17   \n",
              "1            3158.0          0.001350       0.16100                   13.98   \n",
              "2            3660.0     363000.000000    1673.00000                  -11.92   \n",
              "3            3496.0          0.001250       0.33600                   14.94   \n",
              "4            8500.0          0.000500       0.01000                   14.50   \n",
              "..              ...               ...           ...                     ...   \n",
              "67          33300.0     240000.000000      12.00000                   -6.50   \n",
              "68           7723.0          0.000140       0.00878                   14.81   \n",
              "69           2800.0          0.000200       0.16000                   16.65   \n",
              "70           3453.0          0.000621       0.07730                   17.08   \n",
              "71           2983.0          0.000240       0.09400                   16.09   \n",
              "\n",
              "    Spectral Class  Real star type  Star type predicted  \n",
              "0              6.0               1                    1  \n",
              "1              6.0               1                    1  \n",
              "2              6.0               5                    5  \n",
              "3              6.0               1                    1  \n",
              "4              2.0               2                    2  \n",
              "..             ...             ...                  ...  \n",
              "67             1.0               4                    4  \n",
              "68             2.0               2                    2  \n",
              "69             6.0               0                    0  \n",
              "70             6.0               0                    0  \n",
              "71             6.0               0                    0  \n",
              "\n",
              "[72 rows x 7 columns]"
            ],
            "text/html": [
              "\n",
              "  <div id=\"df-121555da-edb9-4269-affc-ce4fa0395b6d\">\n",
              "    <div class=\"colab-df-container\">\n",
              "      <div>\n",
              "<style scoped>\n",
              "    .dataframe tbody tr th:only-of-type {\n",
              "        vertical-align: middle;\n",
              "    }\n",
              "\n",
              "    .dataframe tbody tr th {\n",
              "        vertical-align: top;\n",
              "    }\n",
              "\n",
              "    .dataframe thead th {\n",
              "        text-align: right;\n",
              "    }\n",
              "</style>\n",
              "<table border=\"1\" class=\"dataframe\">\n",
              "  <thead>\n",
              "    <tr style=\"text-align: right;\">\n",
              "      <th></th>\n",
              "      <th>Temperature (K)</th>\n",
              "      <th>Luminosity(L/Lo)</th>\n",
              "      <th>Radius(R/Ro)</th>\n",
              "      <th>Absolute magnitude(Mv)</th>\n",
              "      <th>Spectral Class</th>\n",
              "      <th>Real star type</th>\n",
              "      <th>Star type predicted</th>\n",
              "    </tr>\n",
              "  </thead>\n",
              "  <tbody>\n",
              "    <tr>\n",
              "      <th>0</th>\n",
              "      <td>3100.0</td>\n",
              "      <td>0.008000</td>\n",
              "      <td>0.31000</td>\n",
              "      <td>11.17</td>\n",
              "      <td>6.0</td>\n",
              "      <td>1</td>\n",
              "      <td>1</td>\n",
              "    </tr>\n",
              "    <tr>\n",
              "      <th>1</th>\n",
              "      <td>3158.0</td>\n",
              "      <td>0.001350</td>\n",
              "      <td>0.16100</td>\n",
              "      <td>13.98</td>\n",
              "      <td>6.0</td>\n",
              "      <td>1</td>\n",
              "      <td>1</td>\n",
              "    </tr>\n",
              "    <tr>\n",
              "      <th>2</th>\n",
              "      <td>3660.0</td>\n",
              "      <td>363000.000000</td>\n",
              "      <td>1673.00000</td>\n",
              "      <td>-11.92</td>\n",
              "      <td>6.0</td>\n",
              "      <td>5</td>\n",
              "      <td>5</td>\n",
              "    </tr>\n",
              "    <tr>\n",
              "      <th>3</th>\n",
              "      <td>3496.0</td>\n",
              "      <td>0.001250</td>\n",
              "      <td>0.33600</td>\n",
              "      <td>14.94</td>\n",
              "      <td>6.0</td>\n",
              "      <td>1</td>\n",
              "      <td>1</td>\n",
              "    </tr>\n",
              "    <tr>\n",
              "      <th>4</th>\n",
              "      <td>8500.0</td>\n",
              "      <td>0.000500</td>\n",
              "      <td>0.01000</td>\n",
              "      <td>14.50</td>\n",
              "      <td>2.0</td>\n",
              "      <td>2</td>\n",
              "      <td>2</td>\n",
              "    </tr>\n",
              "    <tr>\n",
              "      <th>...</th>\n",
              "      <td>...</td>\n",
              "      <td>...</td>\n",
              "      <td>...</td>\n",
              "      <td>...</td>\n",
              "      <td>...</td>\n",
              "      <td>...</td>\n",
              "      <td>...</td>\n",
              "    </tr>\n",
              "    <tr>\n",
              "      <th>67</th>\n",
              "      <td>33300.0</td>\n",
              "      <td>240000.000000</td>\n",
              "      <td>12.00000</td>\n",
              "      <td>-6.50</td>\n",
              "      <td>1.0</td>\n",
              "      <td>4</td>\n",
              "      <td>4</td>\n",
              "    </tr>\n",
              "    <tr>\n",
              "      <th>68</th>\n",
              "      <td>7723.0</td>\n",
              "      <td>0.000140</td>\n",
              "      <td>0.00878</td>\n",
              "      <td>14.81</td>\n",
              "      <td>2.0</td>\n",
              "      <td>2</td>\n",
              "      <td>2</td>\n",
              "    </tr>\n",
              "    <tr>\n",
              "      <th>69</th>\n",
              "      <td>2800.0</td>\n",
              "      <td>0.000200</td>\n",
              "      <td>0.16000</td>\n",
              "      <td>16.65</td>\n",
              "      <td>6.0</td>\n",
              "      <td>0</td>\n",
              "      <td>0</td>\n",
              "    </tr>\n",
              "    <tr>\n",
              "      <th>70</th>\n",
              "      <td>3453.0</td>\n",
              "      <td>0.000621</td>\n",
              "      <td>0.07730</td>\n",
              "      <td>17.08</td>\n",
              "      <td>6.0</td>\n",
              "      <td>0</td>\n",
              "      <td>0</td>\n",
              "    </tr>\n",
              "    <tr>\n",
              "      <th>71</th>\n",
              "      <td>2983.0</td>\n",
              "      <td>0.000240</td>\n",
              "      <td>0.09400</td>\n",
              "      <td>16.09</td>\n",
              "      <td>6.0</td>\n",
              "      <td>0</td>\n",
              "      <td>0</td>\n",
              "    </tr>\n",
              "  </tbody>\n",
              "</table>\n",
              "<p>72 rows × 7 columns</p>\n",
              "</div>\n",
              "      <button class=\"colab-df-convert\" onclick=\"convertToInteractive('df-121555da-edb9-4269-affc-ce4fa0395b6d')\"\n",
              "              title=\"Convert this dataframe to an interactive table.\"\n",
              "              style=\"display:none;\">\n",
              "        \n",
              "  <svg xmlns=\"http://www.w3.org/2000/svg\" height=\"24px\"viewBox=\"0 0 24 24\"\n",
              "       width=\"24px\">\n",
              "    <path d=\"M0 0h24v24H0V0z\" fill=\"none\"/>\n",
              "    <path d=\"M18.56 5.44l.94 2.06.94-2.06 2.06-.94-2.06-.94-.94-2.06-.94 2.06-2.06.94zm-11 1L8.5 8.5l.94-2.06 2.06-.94-2.06-.94L8.5 2.5l-.94 2.06-2.06.94zm10 10l.94 2.06.94-2.06 2.06-.94-2.06-.94-.94-2.06-.94 2.06-2.06.94z\"/><path d=\"M17.41 7.96l-1.37-1.37c-.4-.4-.92-.59-1.43-.59-.52 0-1.04.2-1.43.59L10.3 9.45l-7.72 7.72c-.78.78-.78 2.05 0 2.83L4 21.41c.39.39.9.59 1.41.59.51 0 1.02-.2 1.41-.59l7.78-7.78 2.81-2.81c.8-.78.8-2.07 0-2.86zM5.41 20L4 18.59l7.72-7.72 1.47 1.35L5.41 20z\"/>\n",
              "  </svg>\n",
              "      </button>\n",
              "      \n",
              "  <style>\n",
              "    .colab-df-container {\n",
              "      display:flex;\n",
              "      flex-wrap:wrap;\n",
              "      gap: 12px;\n",
              "    }\n",
              "\n",
              "    .colab-df-convert {\n",
              "      background-color: #E8F0FE;\n",
              "      border: none;\n",
              "      border-radius: 50%;\n",
              "      cursor: pointer;\n",
              "      display: none;\n",
              "      fill: #1967D2;\n",
              "      height: 32px;\n",
              "      padding: 0 0 0 0;\n",
              "      width: 32px;\n",
              "    }\n",
              "\n",
              "    .colab-df-convert:hover {\n",
              "      background-color: #E2EBFA;\n",
              "      box-shadow: 0px 1px 2px rgba(60, 64, 67, 0.3), 0px 1px 3px 1px rgba(60, 64, 67, 0.15);\n",
              "      fill: #174EA6;\n",
              "    }\n",
              "\n",
              "    [theme=dark] .colab-df-convert {\n",
              "      background-color: #3B4455;\n",
              "      fill: #D2E3FC;\n",
              "    }\n",
              "\n",
              "    [theme=dark] .colab-df-convert:hover {\n",
              "      background-color: #434B5C;\n",
              "      box-shadow: 0px 1px 3px 1px rgba(0, 0, 0, 0.15);\n",
              "      filter: drop-shadow(0px 1px 2px rgba(0, 0, 0, 0.3));\n",
              "      fill: #FFFFFF;\n",
              "    }\n",
              "  </style>\n",
              "\n",
              "      <script>\n",
              "        const buttonEl =\n",
              "          document.querySelector('#df-121555da-edb9-4269-affc-ce4fa0395b6d button.colab-df-convert');\n",
              "        buttonEl.style.display =\n",
              "          google.colab.kernel.accessAllowed ? 'block' : 'none';\n",
              "\n",
              "        async function convertToInteractive(key) {\n",
              "          const element = document.querySelector('#df-121555da-edb9-4269-affc-ce4fa0395b6d');\n",
              "          const dataTable =\n",
              "            await google.colab.kernel.invokeFunction('convertToInteractive',\n",
              "                                                     [key], {});\n",
              "          if (!dataTable) return;\n",
              "\n",
              "          const docLinkHtml = 'Like what you see? Visit the ' +\n",
              "            '<a target=\"_blank\" href=https://colab.research.google.com/notebooks/data_table.ipynb>data table notebook</a>'\n",
              "            + ' to learn more about interactive tables.';\n",
              "          element.innerHTML = '';\n",
              "          dataTable['output_type'] = 'display_data';\n",
              "          await google.colab.output.renderOutput(dataTable, element);\n",
              "          const docLink = document.createElement('div');\n",
              "          docLink.innerHTML = docLinkHtml;\n",
              "          element.appendChild(docLink);\n",
              "        }\n",
              "      </script>\n",
              "    </div>\n",
              "  </div>\n",
              "  "
            ]
          },
          "metadata": {},
          "execution_count": 55
        }
      ]
    },
    {
      "cell_type": "code",
      "source": [
        "#Agrupación por tipo estelar de los datos de testeo\n",
        "test_tipo0 = test[test['Real star type'] == 0]\n",
        "test_tipo1 = test[test['Real star type'] == 1]\n",
        "test_tipo2 = test[test['Real star type'] == 2]\n",
        "test_tipo3 = test[test['Real star type'] == 3]\n",
        "test_tipo4 = test[test['Real star type'] == 4]\n",
        "test_tipo5 = test[test['Real star type'] == 5]\n",
        "\n",
        "p_tipo0 = test[test['Star type predicted'] == 0.0]\n",
        "p_tipo1 = test[test['Star type predicted'] == 1.0]\n",
        "p_tipo2 = test[test['Star type predicted'] == 2.0]\n",
        "p_tipo3 = test[test['Star type predicted'] == 3.0]\n",
        "p_tipo4 = test[test['Star type predicted'] == 4.0]\n",
        "p_tipo5 = test[test['Star type predicted'] == 5.0]"
      ],
      "metadata": {
        "id": "1REiD2L8kuTE"
      },
      "execution_count": 56,
      "outputs": []
    },
    {
      "cell_type": "code",
      "source": [
        "plt.scatter(test_tipo0['Temperature (K)'],test_tipo0['Absolute magnitude(Mv)'])\n",
        "plt.scatter(test_tipo1['Temperature (K)'],test_tipo1['Absolute magnitude(Mv)'])\n",
        "plt.scatter(test_tipo2['Temperature (K)'],test_tipo2['Absolute magnitude(Mv)'])\n",
        "plt.scatter(test_tipo3['Temperature (K)'],test_tipo3['Absolute magnitude(Mv)'])\n",
        "plt.scatter(test_tipo4['Temperature (K)'],test_tipo4['Absolute magnitude(Mv)'])\n",
        "plt.scatter(test_tipo5['Temperature (K)'],test_tipo5['Absolute magnitude(Mv)'])"
      ],
      "metadata": {
        "colab": {
          "base_uri": "https://localhost:8080/",
          "height": 282
        },
        "id": "8KunZ_5NdTv8",
        "outputId": "f18e03c5-e4aa-4a4b-8894-01c9526f9b67"
      },
      "execution_count": 57,
      "outputs": [
        {
          "output_type": "execute_result",
          "data": {
            "text/plain": [
              "<matplotlib.collections.PathCollection at 0x7fa2fee9c750>"
            ]
          },
          "metadata": {},
          "execution_count": 57
        },
        {
          "output_type": "display_data",
          "data": {
            "text/plain": [
              "<Figure size 432x288 with 1 Axes>"
            ],
            "image/png": "[encoded data removed]"
          },
          "metadata": {
            "needs_background": "light"
          }
        }
      ]
    },
    {
      "cell_type": "code",
      "source": [
        "plt.scatter(p_tipo0['Temperature (K)'],p_tipo0['Absolute magnitude(Mv)'])\n",
        "plt.scatter(p_tipo1['Temperature (K)'],p_tipo1['Absolute magnitude(Mv)'])\n",
        "plt.scatter(p_tipo2['Temperature (K)'],p_tipo2['Absolute magnitude(Mv)'])\n",
        "plt.scatter(p_tipo3['Temperature (K)'],p_tipo3['Absolute magnitude(Mv)'])\n",
        "plt.scatter(p_tipo4['Temperature (K)'],p_tipo4['Absolute magnitude(Mv)'])\n",
        "plt.scatter(p_tipo5['Temperature (K)'],p_tipo5['Absolute magnitude(Mv)'])"
      ],
      "metadata": {
        "id": "YD81NksqfPUN",
        "colab": {
          "base_uri": "https://localhost:8080/",
          "height": 282
        },
        "outputId": "73c47a3b-5906-4572-bccc-863b41859138"
      },
      "execution_count": 58,
      "outputs": [
        {
          "output_type": "execute_result",
          "data": {
            "text/plain": [
              "<matplotlib.collections.PathCollection at 0x7fa2fee21b10>"
            ]
          },
          "metadata": {},
          "execution_count": 58
        },
        {
          "output_type": "display_data",
          "data": {
            "text/plain": [
              "<Figure size 432x288 with 1 Axes>"
            ],
            "image/png": "[encoded data removed]"
          },
          "metadata": {
            "needs_background": "light"
          }
        }
      ]
    }
  ]
}