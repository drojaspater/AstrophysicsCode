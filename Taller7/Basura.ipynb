{
 "cells": [
  {
   "cell_type": "code",
   "execution_count": null,
   "id": "1b9d035b",
   "metadata": {},
   "outputs": [],
   "source": [
    "Prof  = range(1,40)\n",
    "Test  = np.zeros(len(Prof))\n",
    "Train = np.zeros(len(Prof))\n",
    "\n",
    "for i in range(len(Prof)):\n",
    "    Mytree = DecisionTreeRegressor(max_depth=Prof[i])\n",
    "    Mytree.fit(train_features, train_targets)\n",
    "    Ptest = Mytree.predict(test_features)\n",
    "    eval_test[i] = np.median(np.abs(Ptest - test_targets))\n",
    "    Ptrain = Mytree.predict(train_features)\n",
    "    eval_train[i] = np.median(np.abs(Ptrain - train_targets))"
   ]
  },
  {
   "cell_type": "code",
   "execution_count": null,
   "id": "25d7972b",
   "metadata": {},
   "outputs": [],
   "source": [
    "plt.figure(figsize=(10,8))\n",
    "plt.plot(Prof, eval_test , label='Conjunto de prueba')\n",
    "plt.plot(Prof, eval_train, label='Conjunto de entrenamiento')\n",
    "plt.xlabel(r'Profundidad del árbol')\n",
    "plt.ylabel(r'Mediana del residual')\n",
    "plt.legend()\n",
    "plt.show()"
   ]
  },
  {
   "cell_type": "code",
   "execution_count": null,
   "id": "57fa2645",
   "metadata": {},
   "outputs": [],
   "source": []
  }
 ],
 "metadata": {
  "kernelspec": {
   "display_name": "Python 3 (ipykernel)",
   "language": "python",
   "name": "python3"
  },
  "language_info": {
   "codemirror_mode": {
    "name": "ipython",
    "version": 3
   },
   "file_extension": ".py",
   "mimetype": "text/x-python",
   "name": "python",
   "nbconvert_exporter": "python",
   "pygments_lexer": "ipython3",
   "version": "3.10.6"
  }
 },
 "nbformat": 4,
 "nbformat_minor": 5
}
