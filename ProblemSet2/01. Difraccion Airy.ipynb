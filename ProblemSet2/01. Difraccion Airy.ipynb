{
 "cells": [
  {
   "cell_type": "markdown",
   "metadata": {
    "id": "NgGr6lO24Kw7"
   },
   "source": [
    "![Astrofisica Computacional](logo.PNG)"
   ]
  },
  {
   "cell_type": "markdown",
   "metadata": {},
   "source": [
    "---\n",
    "\n",
    "Eduard Larrañaga (ealarranaga@unal.edu.co)\n",
    "\n",
    "---"
   ]
  },
  {
   "cell_type": "markdown",
   "metadata": {},
   "source": [
    "---\n",
    "# Ejercicio 01. Métodos Numéricos Básicos\n",
    "\n",
    "## A. Límite de Difracción para un Telescopio"
   ]
  },
  {
   "cell_type": "markdown",
   "metadata": {
    "id": "IXMtRwwg4Kw8"
   },
   "source": [
    "Como es bien conocido, la habilidad para resolver detalles en una observación astronómica esta limitada (entre otros muchos factores) por la difrección de la luz en el telescopio. Para modelar este efecto,\n",
    "se puede asumir que la luz de una estrella es emitida a partir de un punto localizado en el infinito.\n",
    "Cuando esta radiación de longitud de onda λ pasa a través de la apertura circular de un telescopio\n",
    "(con un radio unitario) y se enfoca en el plano focal, no se produce un solo punto luminoso, sino que\n",
    "se registra un patrón circular de difracción que consiste de una región central luminosa rodeada de\n",
    "una serie de anillos concéntricos. La intensidad de la luz en el patrón de difracción esta dada por la\n",
    "función\n",
    "\n",
    "\\begin{equation}\n",
    "    I(\\rho) = \\left( \\frac{2J_1 (k\\rho)}{k\\rho} \\right)^2,\n",
    "\\end{equation}\n",
    "\n",
    "donde $\\rho$ es la distancia en el plano focal medida desde el centro del patrón, $k = \\frac{2\\pi}{\\lambda}$ y $J_1 (x)$ es una función de Bessel (ver documento adjunto con la deducción completa). \n",
    "\n",
    "Las funciones de Bessel de primera especie están definidas por la relación general\n",
    "\n",
    "\\begin{equation}\n",
    "    J_m (x) = \\frac{1}{\\pi} \\int_0^{\\pi} \\cos (m\\tau - x \\sin \\tau ) d\\tau,\n",
    "\\end{equation}\n",
    "\n",
    "con $m$ un entero no-negativo y $x\\geq 0$."
   ]
  },
  {
   "cell_type": "markdown",
   "metadata": {
    "id": "6MsfOTJP4Kw8"
   },
   "source": [
    "---\n",
    "\n",
    "1. Escriba una función que calcule las funciones de Bessel de primera especie $J_m(x)$ utilizando la regla de Simpson con $1000$ puntos en el intervalo de integración.\n",
    "\n",
    "2. Utilice esta función para graficar el comportamiento de las funciones de Bessel de orden $m=0,1,2$ para $0\\leq x \\leq 20$."
   ]
  },
  {
   "cell_type": "markdown",
   "metadata": {
    "id": "W7c9sX8R4Kw9"
   },
   "source": [
    "3. Utilice esta función para obtener un gráfico de densidad para la intensidad del patrón de difracción circular para una fuente puntual con $\\lambda = 500 \\text{ nm}$ en la región $0 \\leq \\rho \\leq 1 \\text{ } \\mu\\text{m}$.\n",
    "\n",
    "4. Localice los valores de $\\rho$ en los cuales se ubican los 4 primeros máximos del patrón de intensidad."
   ]
  },
  {
   "cell_type": "markdown",
   "metadata": {},
   "source": [
    "![Airy](Airy.png)"
   ]
  },
  {
   "cell_type": "code",
   "execution_count": null,
   "metadata": {},
   "outputs": [],
   "source": []
  }
 ],
 "metadata": {
  "colab": {
   "name": "Errors01.ipynb",
   "provenance": []
  },
  "kernelspec": {
   "display_name": "Python 3 (ipykernel)",
   "language": "python",
   "name": "python3"
  },
  "language_info": {
   "codemirror_mode": {
    "name": "ipython",
    "version": 3
   },
   "file_extension": ".py",
   "mimetype": "text/x-python",
   "name": "python",
   "nbconvert_exporter": "python",
   "pygments_lexer": "ipython3",
   "version": "3.9.5"
  }
 },
 "nbformat": 4,
 "nbformat_minor": 1
}
