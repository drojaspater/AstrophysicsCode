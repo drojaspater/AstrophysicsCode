{
  "nbformat": 4,
  "nbformat_minor": 0,
  "metadata": {
    "colab": {
      "provenance": [],
      "collapsed_sections": []
    },
    "kernelspec": {
      "name": "python3",
      "display_name": "Python 3"
    },
    "language_info": {
      "name": "python"
    }
  },
  "cells": [
    {
      "cell_type": "markdown",
      "source": [
        "**B. El Punto de Lagrange L1**\n",
        "\n",
        "El punto de Lagrange L1 del sistema Tierra-Luna es aquel lugar en el que la atracción gravitacional\n",
        "de estos dos cuerpos actuando sobre una partícula de prueba se combina de tal manera que se logra\n",
        "un equilibrio con la fuerca centrípeta que mantiene la partícula en su orbita (ver Figura).\n",
        "1. Asuma que las orbitas son circulares y que la masa de la Tierra es mucho mayor que la de la\n",
        "Luna (y que la de la partícula de prueba) para mostrar que la distancia r desde el centro de la\n",
        "Tierra hasta el punto L1 satisface la ecuación\n",
        "\\begin{align}\n",
        "\\frac{GM}{r²} - \\frac{Gm}{(R-r)²} = w²r\n",
        "\\end{align}\n",
        "donde R es la distance entre la Tierra y la Luna, M y m son las masas de la Tierra y de la Luna,\n",
        "respectivamente, y ω es la velocidad angular de la Luna y la partícula alrededor de la Tierra.\n",
        "Claramente esta ecuación es un polinomio de orden 5 en r y por ello su solución debe encontrarse\n",
        "en forma numérica. Escriba un programa que utilice el método de la secante (o Newton-Raphson)\n",
        "para resolver esta ecuación y encontrar la ubicación del punto L1. Para ello considere los siguientes\n",
        "parámetros:\n",
        "\n",
        "* $G = 6,674 × 10^{−11} m³ kg^{−1} s^{−2}$\n",
        "* $M = 5,974 × 10^{24} kg$\n",
        "* $m = 7,348 × 10^{22} kg$\n",
        "* $R = 3,844 × 10^{8} m$\n",
        "* $ω = 2,662 × 10^{-6} s^{−1}$"
      ],
      "metadata": {
        "id": "8jB4uWKOJBJ_"
      }
    },
    {
      "cell_type": "code",
      "execution_count": 1,
      "metadata": {
        "id": "dw6GA7jUPUsZ"
      },
      "outputs": [],
      "source": [
        "#Requerimientos\n",
        "import numpy as np\n",
        "import matplotlib.pyplot as plt\n",
        "import matplotlib.path as mpath\n",
        "import scipy.constants\n",
        "import scipy.fft as sc"
      ]
    },
    {
      "cell_type": "code",
      "source": [
        "#Constantes dadas por el enunciado\n",
        "G = scipy.constants.physical_constants['Newtonian constant of gravitation']\n",
        "M = 5.974e24 #Masa de la tierra en kg\n",
        "m = 7.348e22 #Masa de la luna en kg\n",
        "R = 3.844e8 #Distancia tierra - luna\n",
        "w = 2.662e-6 #Velocidad angular de la Luna y la partícula alrededor de la Tierra \n",
        "print(G)"
      ],
      "metadata": {
        "colab": {
          "base_uri": "https://localhost:8080/"
        },
        "id": "UQ5sszTFm9Rb",
        "outputId": "66782616-f791-403c-e47f-acfb9765eda8"
      },
      "execution_count": 2,
      "outputs": [
        {
          "output_type": "stream",
          "name": "stdout",
          "text": [
            "(6.6743e-11, 'm^3 kg^-1 s^-2', 1.5e-15)\n"
          ]
        }
      ]
    },
    {
      "cell_type": "markdown",
      "source": [
        "Al hacer la sumatoria de fuerzas en el punto estacionario L1 se tiene que,\n",
        "\\begin{align}\n",
        "\\frac{GM}{r²} - \\frac{Gm}{(R-r)²} = w²r\n",
        "\\end{align}\n",
        "Esto también puede ser expresado como,\n",
        "\\begin{align}\n",
        "w²r - \\frac{GM}{r²} + \\frac{Gm}{(R-r)²} = 0\n",
        "\\end{align}\n",
        "Resolviendo el binomio cuadrado,\n",
        "\\begin{align}\n",
        "w²(R²r - 2Rr² + r³) - GM(\\frac{R²}{r²} - \\frac{2R}{r} + 1) + Gm = 0\n",
        "\\end{align}\n",
        "Organizando los términos, finalmente el polinomio puede ser expresado como,\n",
        "\\begin{align}\n",
        "w²r⁵ - 2w²Rr⁴ + w²R²r³ + (Gm - GM)r² + 2GMRr - GMR² = 0\n",
        "\\end{align}\n",
        "EL cual es claramente un polinomio de orden 5 en r."
      ],
      "metadata": {
        "id": "xPBkx-aM8nzW"
      }
    },
    {
      "cell_type": "code",
      "source": [
        "#Definición de la función\n",
        "F=lambda r1:(w**2)*r1**5 - 2*R*w**2*r1**4 + R**2*w**2*r1**3 + (G[0]*m - G[0]*M)*r1**2 + 2*G[0]*M*R*r1 - G[0]*M*R**2\n",
        "\n",
        "#Creación de la lista respecto a la cual se graficará\n",
        "r=np.linspace(-2*R,3*R,1000)\n",
        "Y=F(r)\n",
        "\n",
        "#Gráfica de la función\n",
        "plt.figure(figsize=(8,8))\n",
        "plt.plot(r,Y,color='g')\n",
        "plt.legend(fontsize=15)\n",
        "#plt.plot([-2*R,3*R],[0,0],color = 'k', linewidth=1)\n",
        "plt.xlabel(r'r',fontsize=12)\n",
        "plt.ylabel(r'F(r)',fontsize=12)\n",
        "plt.title('Punto de Lagrange L1')\n",
        "plt.grid()\n",
        "plt.show()"
      ],
      "metadata": {
        "colab": {
          "base_uri": "https://localhost:8080/",
          "height": 533
        },
        "id": "MpvMg_6EyBot",
        "outputId": "292ab641-f29f-4424-ec4c-82f5fc4cd10a"
      },
      "execution_count": 5,
      "outputs": [
        {
          "output_type": "stream",
          "name": "stderr",
          "text": [
            "WARNING:matplotlib.legend:No handles with labels found to put in legend.\n"
          ]
        },
        {
          "output_type": "display_data",
          "data": {
            "text/plain": [
              "<Figure size 576x576 with 1 Axes>"
            ],
            "image/png": "[encoded data removed]"
          },
          "metadata": {
            "needs_background": "light"
          }
        }
      ]
    },
    {
      "cell_type": "code",
      "source": [
        "#Acercamiento al intervalo que contiene la raíz\n",
        "plt.figure(figsize=(8,8))\n",
        "plt.plot(r,Y,color='g')\n",
        "#plt.scatter(r, Y, color='black')\n",
        "plt.legend(fontsize=15)\n",
        "plt.xlabel(r'r',fontsize=12)\n",
        "plt.ylabel(r'F(r)',fontsize=12)\n",
        "plt.xlim(-0.25e9,0.7e9)\n",
        "plt.grid()\n",
        "plt.show()"
      ],
      "metadata": {
        "colab": {
          "base_uri": "https://localhost:8080/",
          "height": 528
        },
        "id": "adJ-9oBNDGqE",
        "outputId": "82aa3b4e-e6bc-4ba3-b5a8-5f5928fd586d"
      },
      "execution_count": 4,
      "outputs": [
        {
          "output_type": "stream",
          "name": "stderr",
          "text": [
            "WARNING:matplotlib.legend:No handles with labels found to put in legend.\n"
          ]
        },
        {
          "output_type": "display_data",
          "data": {
            "text/plain": [
              "<Figure size 576x576 with 1 Axes>"
            ],
            "image/png": "[encoded data removed]"
          },
          "metadata": {
            "needs_background": "light"
          }
        }
      ]
    },
    {
      "cell_type": "code",
      "source": [
        "#Búsqueda de raíces\n",
        "\n",
        "#Función de interpolación cuadratica en un rango de tres puntos\n",
        "def quadraticInterpolation(x1, x2, x3, f1, f2, f3, X):\n",
        "    p2 = (((X-x2)*(X-x3))/((x1-x2)*(x1-x3)))*f1 +\\\n",
        "    (((X-x1)*(X-x3))/((x2-x1)*(x2-x3)))*f2 +\\\n",
        "    (((X-x1)*(X-x2))/((x3-x1)*(x3-x2)))*f3\n",
        "    return p2\n",
        "\n",
        "#Función de interpolación cuadratica en todo el dominio de puntos\n",
        "def FinalInterpolation(X,Y):\n",
        "    BigListY=[]\n",
        "    BigListX=[]\n",
        "    for i in range(0,len(Y)-2):\n",
        "        x_interval = np.linspace(X[i],X[i+1],1000) #Intervalo \n",
        "        y_interval = quadraticInterpolation(X[i], X[i+1], X[i+2], Y[i], Y[i+1], Y[i+2], x_interval)\n",
        "        for j in range(0,len(y_interval)):\n",
        "            BigListY.append(y_interval[j])\n",
        "            BigListX.append(x_interval[j])\n",
        "    return [BigListX,BigListY]. \n",
        "\n",
        "CO=FinalInterpolation(r,Y)\n",
        "f=CO[1]"
      ],
      "metadata": {
        "colab": {
          "base_uri": "https://localhost:8080/",
          "height": 306
        },
        "id": "lA68lqAYDKs6",
        "outputId": "229e1c95-b52b-43d6-ba0a-77522d0ba2da"
      },
      "execution_count": 7,
      "outputs": [
        {
          "output_type": "execute_result",
          "data": {
            "text/plain": [
              "<matplotlib.collections.PathCollection at 0x7f5fd93ed950>"
            ]
          },
          "metadata": {},
          "execution_count": 7
        },
        {
          "output_type": "display_data",
          "data": {
            "text/plain": [
              "<Figure size 432x288 with 1 Axes>"
            ],
            "image/png": "[encoded data removed]"
          },
          "metadata": {
            "needs_background": "light"
          }
        }
      ]
    },
    {
      "cell_type": "code",
      "source": [
        "#Intervalo cercano a la raíz\n",
        "for i in range(len(Y)-1):\n",
        "    if Y[i]>=1:\n",
        "        a=i\n",
        "        break\n",
        "\n",
        "x_int =[r[a], r[a+1], r[a+2]]\n",
        "Y_int =[Y[a], Y[a+1], Y[a+2]]\n",
        "\n",
        "print('a = ', a, ': r_a = ', r[a], ': f(r_a) = ', Y[a])\n",
        "print('a = ', a+1, ': r_a = ', r[a+1], ': f(r_a) = ', Y[a+1])"
      ],
      "metadata": {
        "colab": {
          "base_uri": "https://localhost:8080/"
        },
        "id": "8xEr6paBEbA9",
        "outputId": "46c286c0-e291-4142-f7b6-86f4254c6373"
      },
      "execution_count": 9,
      "outputs": [
        {
          "output_type": "stream",
          "name": "stdout",
          "text": [
            "a =  570 : r_a =  327836636.6366365 : f(r_a) =  5.025572835946906e+28\n",
            "a =  571 : r_a =  329760560.56056046 : f(r_a) =  1.0154766920236092e+29\n"
          ]
        }
      ]
    },
    {
      "cell_type": "code",
      "source": [
        "#Método de Newton-Raphson \n",
        "root0 = r[a-1]\n",
        "root = r[a]\n",
        "\n",
        "while np.abs(F(root))>1e-10:\n",
        "    new_root = root - F(root)*(root - root0)/(F(root) - F(root0))\n",
        "    root0, root = root, new_root\n",
        "\n",
        "print(f'El punto de Lagrange L1 se encuentra a {root:.8f} m') \n",
        "print(f'ya que la función da un valor de f(x_r) =  {F(root):.8e}')"
      ],
      "metadata": {
        "id": "cqEZYk-xHRhN",
        "colab": {
          "base_uri": "https://localhost:8080/"
        },
        "outputId": "74896ad5-b83e-4b2d-cfac-4f1e441aae2b"
      },
      "execution_count": 15,
      "outputs": [
        {
          "output_type": "stream",
          "name": "stdout",
          "text": [
            "El punto de Lagrange L1 se encuentra a 326046378.76390421 m\n",
            "ya que la función da un valor de f(x_r) =  0.00000000e+00\n"
          ]
        }
      ]
    },
    {
      "cell_type": "code",
      "source": [
        "#Gráfica del punto de Lagrange L1\n",
        "plt.figure(figsize=(8,8))\n",
        "plt.plot(r,Y,color='g')\n",
        "plt.legend(fontsize=15)\n",
        "plt.xlabel(r'r',fontsize=12)\n",
        "plt.ylabel(r'F(r)',fontsize=12)\n",
        "plt.scatter(root,F(root))\n",
        "plt.xlim(-0.25e9,0.7e9)\n",
        "plt.grid()\n",
        "plt.show()"
      ],
      "metadata": {
        "colab": {
          "base_uri": "https://localhost:8080/",
          "height": 528
        },
        "id": "fu1xfxfSBFX6",
        "outputId": "b522a63b-2fdd-42de-94ad-d9313696012d"
      },
      "execution_count": 11,
      "outputs": [
        {
          "output_type": "stream",
          "name": "stderr",
          "text": [
            "WARNING:matplotlib.legend:No handles with labels found to put in legend.\n"
          ]
        },
        {
          "output_type": "display_data",
          "data": {
            "text/plain": [
              "<Figure size 576x576 with 1 Axes>"
            ],
            "image/png": "[encoded data removed]"
          },
          "metadata": {
            "needs_background": "light"
          }
        }
      ]
    },
    {
      "cell_type": "code",
      "source": [],
      "metadata": {
        "id": "0bxL5cY-BT8P"
      },
      "execution_count": null,
      "outputs": []
    }
  ]
}