{
 "cells": [
  {
   "cell_type": "markdown",
   "metadata": {
    "id": "NgGr6lO24Kw7"
   },
   "source": [
    "![Astrofisica Computacional](logo.PNG)"
   ]
  },
  {
   "cell_type": "markdown",
   "metadata": {},
   "source": [
    "---\n",
    "\n",
    "Eduard Larrañaga (ealarranaga@unal.edu.co)\n",
    "\n",
    "---"
   ]
  },
  {
   "cell_type": "markdown",
   "metadata": {},
   "source": [
    "\n",
    "# Ejercicio 01. Datos en Astrophysics\n"
   ]
  },
  {
   "cell_type": "markdown",
   "metadata": {
    "id": "IXMtRwwg4Kw8"
   },
   "source": [
    "---\n",
    "### A. Descargando datos del SDSS\n",
    "Escriba una busqueda en SQL que permita encontrar en el SDSS (DS17), utilizando las tablas PhotoObj y SpecObj, los objetos localizados en la región con ascención recta entre 140.9 y 141.1, que tengan un brillo en la banda g mayor a 18.0 y con un corrimiento al rojo (SpecObj) mayor que 0.1. Realice la conexión entre las dos tablas a través de objid (PhotoObj) y bestobjid (SpecObj) y obtenga las siguientes características: \n",
    "\n",
    "- Object ID (PhotoObj)\n",
    "- ra \n",
    "- dec\n",
    "- las 5 mahgnitudes u,g,r,i,z \n",
    "- specobjid (SpecObj)\n",
    "- z o redhsift (SepcObj)\n",
    "\n",
    "Descargue los resultados en un archivo de formato `.csv`."
   ]
  },
  {
   "cell_type": "markdown",
   "metadata": {},
   "source": [
    "---\n",
    "### B. Análisis de los Datos obtenidos\n",
    "\n",
    "1. Escriba un código que lea el archivo de datos descargado y determine el número de objetos obtenidos. Verifique que no existen objetos de la clase espectral 'STAR' y determine cuantos objetos son 'GALAXY' y cuantos 'QSO'. Verifique que no existen datos faltantes.\n",
    "\n",
    "2. Realice 5 gráficas mostrando el redshift (eje vertical) vs. cada una de las magnitudes en las bandas u,g,r,i,z (eje horizontal). En cada una de ellas identifique con color rojo las galaxias y con azul los quasars.\n",
    "\n",
    "3. Identifique y presente la información de la galaxia con el redshift mas alto y del quasar con el redshift mas pequeño."
   ]
  },
  {
   "cell_type": "markdown",
   "metadata": {
    "id": "m7laERy44Kw9"
   },
   "source": [
    "---\n",
    "### C. Índices de Color\n",
    "\n",
    "1. Defina columnas en el dataframe con los índices de color `u-g`, `g-i`, `r-i` e `i-z` para cada uno de los objetos.\n",
    "\n",
    "2. Realice 4 gráficas mostrando el redshift (eje vertical) vs. cada uno de los índices de color, identificando con color rojo las galaxias y con azul los quasars.\n",
    "\n",
    "3. Realice una gráfica mostrando el índice de color `r-i` (eje vertical) vs. índice de color `u-g` (eje horizontal) e indicando el valor de redshift para cada objeto con una escala de color. Puede identificar algún(os) objeto(s) ailslado(s) de la tendencia? Que interpretación daría para este comportamiento? "
   ]
  },
  {
   "cell_type": "code",
   "execution_count": null,
   "metadata": {},
   "outputs": [],
   "source": []
  }
 ],
 "metadata": {
  "colab": {
   "name": "Errors01.ipynb",
   "provenance": []
  },
  "kernelspec": {
   "display_name": "Python 3 (ipykernel)",
   "language": "python",
   "name": "python3"
  },
  "language_info": {
   "codemirror_mode": {
    "name": "ipython",
    "version": 3
   },
   "file_extension": ".py",
   "mimetype": "text/x-python",
   "name": "python",
   "nbconvert_exporter": "python",
   "pygments_lexer": "ipython3",
   "version": "3.9.5"
  }
 },
 "nbformat": 4,
 "nbformat_minor": 1
}
