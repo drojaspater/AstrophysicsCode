{
  "nbformat": 4,
  "nbformat_minor": 0,
  "metadata": {
    "colab": {
      "provenance": []
    },
    "kernelspec": {
      "name": "python3",
      "display_name": "Python 3"
    },
    "language_info": {
      "name": "python"
    }
  },
  "cells": [
    {
      "cell_type": "code",
      "execution_count": null,
      "metadata": {
        "id": "i9itt22Uqmvn"
      },
      "outputs": [],
      "source": [
        "import numpy as np\n",
        "import pandas as pd\n",
        "import matplotlib.pyplot as plt\n",
        "import math"
      ]
    },
    {
      "cell_type": "code",
      "source": [
        "#Importar los datos de csv a colab\n",
        "from google.colab import drive \n",
        "drive.mount('/content/drive')"
      ],
      "metadata": {
        "colab": {
          "base_uri": "https://localhost:8080/"
        },
        "id": "ga33JE-i_NPW",
        "outputId": "f4ec0069-477a-46f3-81c2-c3c190162a3e"
      },
      "execution_count": null,
      "outputs": [
        {
          "output_type": "stream",
          "name": "stdout",
          "text": [
            "Drive already mounted at /content/drive; to attempt to forcibly remount, call drive.mount(\"/content/drive\", force_remount=True).\n"
          ]
        }
      ]
    },
    {
      "cell_type": "code",
      "source": [
        "#Datos\n",
        "data=pd.read_csv('/content/drive/Shareddrives/Astrofísica Computacional/Taller8/data01.csv')\n",
        "data"
      ],
      "metadata": {
        "colab": {
          "base_uri": "https://localhost:8080/",
          "height": 424
        },
        "id": "YjwjBfNC_w_4",
        "outputId": "94a0f6bc-afd5-428b-bd58-cab2108ad19e"
      },
      "execution_count": null,
      "outputs": [
        {
          "output_type": "execute_result",
          "data": {
            "text/plain": [
              "     Unnamed: 0          x          y          phi\n",
              "0             0  73.517682  44.800793  1116.826387\n",
              "1             1  32.756284  28.724427  1066.212487\n",
              "2             2 -13.308013   2.458485   490.735354\n",
              "3             3  62.884936   5.696075 -1130.689639\n",
              "4             4  47.861635  29.955114   782.448037\n",
              "..          ...        ...        ...          ...\n",
              "166         166  84.174447   7.278451 -1540.365854\n",
              "167         167 -23.119203   9.013067  1145.697153\n",
              "168         168  -5.747350  18.067861  1308.279480\n",
              "169         169  16.419795  12.980806   450.696513\n",
              "170         170  46.245703  36.231065  1222.891304\n",
              "\n",
              "[171 rows x 4 columns]"
            ],
            "text/html": [
              "\n",
              "  <div id=\"df-9e1e5911-e942-4a41-b21c-457b842e1a98\">\n",
              "    <div class=\"colab-df-container\">\n",
              "      <div>\n",
              "<style scoped>\n",
              "    .dataframe tbody tr th:only-of-type {\n",
              "        vertical-align: middle;\n",
              "    }\n",
              "\n",
              "    .dataframe tbody tr th {\n",
              "        vertical-align: top;\n",
              "    }\n",
              "\n",
              "    .dataframe thead th {\n",
              "        text-align: right;\n",
              "    }\n",
              "</style>\n",
              "<table border=\"1\" class=\"dataframe\">\n",
              "  <thead>\n",
              "    <tr style=\"text-align: right;\">\n",
              "      <th></th>\n",
              "      <th>Unnamed: 0</th>\n",
              "      <th>x</th>\n",
              "      <th>y</th>\n",
              "      <th>phi</th>\n",
              "    </tr>\n",
              "  </thead>\n",
              "  <tbody>\n",
              "    <tr>\n",
              "      <th>0</th>\n",
              "      <td>0</td>\n",
              "      <td>73.517682</td>\n",
              "      <td>44.800793</td>\n",
              "      <td>1116.826387</td>\n",
              "    </tr>\n",
              "    <tr>\n",
              "      <th>1</th>\n",
              "      <td>1</td>\n",
              "      <td>32.756284</td>\n",
              "      <td>28.724427</td>\n",
              "      <td>1066.212487</td>\n",
              "    </tr>\n",
              "    <tr>\n",
              "      <th>2</th>\n",
              "      <td>2</td>\n",
              "      <td>-13.308013</td>\n",
              "      <td>2.458485</td>\n",
              "      <td>490.735354</td>\n",
              "    </tr>\n",
              "    <tr>\n",
              "      <th>3</th>\n",
              "      <td>3</td>\n",
              "      <td>62.884936</td>\n",
              "      <td>5.696075</td>\n",
              "      <td>-1130.689639</td>\n",
              "    </tr>\n",
              "    <tr>\n",
              "      <th>4</th>\n",
              "      <td>4</td>\n",
              "      <td>47.861635</td>\n",
              "      <td>29.955114</td>\n",
              "      <td>782.448037</td>\n",
              "    </tr>\n",
              "    <tr>\n",
              "      <th>...</th>\n",
              "      <td>...</td>\n",
              "      <td>...</td>\n",
              "      <td>...</td>\n",
              "      <td>...</td>\n",
              "    </tr>\n",
              "    <tr>\n",
              "      <th>166</th>\n",
              "      <td>166</td>\n",
              "      <td>84.174447</td>\n",
              "      <td>7.278451</td>\n",
              "      <td>-1540.365854</td>\n",
              "    </tr>\n",
              "    <tr>\n",
              "      <th>167</th>\n",
              "      <td>167</td>\n",
              "      <td>-23.119203</td>\n",
              "      <td>9.013067</td>\n",
              "      <td>1145.697153</td>\n",
              "    </tr>\n",
              "    <tr>\n",
              "      <th>168</th>\n",
              "      <td>168</td>\n",
              "      <td>-5.747350</td>\n",
              "      <td>18.067861</td>\n",
              "      <td>1308.279480</td>\n",
              "    </tr>\n",
              "    <tr>\n",
              "      <th>169</th>\n",
              "      <td>169</td>\n",
              "      <td>16.419795</td>\n",
              "      <td>12.980806</td>\n",
              "      <td>450.696513</td>\n",
              "    </tr>\n",
              "    <tr>\n",
              "      <th>170</th>\n",
              "      <td>170</td>\n",
              "      <td>46.245703</td>\n",
              "      <td>36.231065</td>\n",
              "      <td>1222.891304</td>\n",
              "    </tr>\n",
              "  </tbody>\n",
              "</table>\n",
              "<p>171 rows × 4 columns</p>\n",
              "</div>\n",
              "      <button class=\"colab-df-convert\" onclick=\"convertToInteractive('df-9e1e5911-e942-4a41-b21c-457b842e1a98')\"\n",
              "              title=\"Convert this dataframe to an interactive table.\"\n",
              "              style=\"display:none;\">\n",
              "        \n",
              "  <svg xmlns=\"http://www.w3.org/2000/svg\" height=\"24px\"viewBox=\"0 0 24 24\"\n",
              "       width=\"24px\">\n",
              "    <path d=\"M0 0h24v24H0V0z\" fill=\"none\"/>\n",
              "    <path d=\"M18.56 5.44l.94 2.06.94-2.06 2.06-.94-2.06-.94-.94-2.06-.94 2.06-2.06.94zm-11 1L8.5 8.5l.94-2.06 2.06-.94-2.06-.94L8.5 2.5l-.94 2.06-2.06.94zm10 10l.94 2.06.94-2.06 2.06-.94-2.06-.94-.94-2.06-.94 2.06-2.06.94z\"/><path d=\"M17.41 7.96l-1.37-1.37c-.4-.4-.92-.59-1.43-.59-.52 0-1.04.2-1.43.59L10.3 9.45l-7.72 7.72c-.78.78-.78 2.05 0 2.83L4 21.41c.39.39.9.59 1.41.59.51 0 1.02-.2 1.41-.59l7.78-7.78 2.81-2.81c.8-.78.8-2.07 0-2.86zM5.41 20L4 18.59l7.72-7.72 1.47 1.35L5.41 20z\"/>\n",
              "  </svg>\n",
              "      </button>\n",
              "      \n",
              "  <style>\n",
              "    .colab-df-container {\n",
              "      display:flex;\n",
              "      flex-wrap:wrap;\n",
              "      gap: 12px;\n",
              "    }\n",
              "\n",
              "    .colab-df-convert {\n",
              "      background-color: #E8F0FE;\n",
              "      border: none;\n",
              "      border-radius: 50%;\n",
              "      cursor: pointer;\n",
              "      display: none;\n",
              "      fill: #1967D2;\n",
              "      height: 32px;\n",
              "      padding: 0 0 0 0;\n",
              "      width: 32px;\n",
              "    }\n",
              "\n",
              "    .colab-df-convert:hover {\n",
              "      background-color: #E2EBFA;\n",
              "      box-shadow: 0px 1px 2px rgba(60, 64, 67, 0.3), 0px 1px 3px 1px rgba(60, 64, 67, 0.15);\n",
              "      fill: #174EA6;\n",
              "    }\n",
              "\n",
              "    [theme=dark] .colab-df-convert {\n",
              "      background-color: #3B4455;\n",
              "      fill: #D2E3FC;\n",
              "    }\n",
              "\n",
              "    [theme=dark] .colab-df-convert:hover {\n",
              "      background-color: #434B5C;\n",
              "      box-shadow: 0px 1px 3px 1px rgba(0, 0, 0, 0.15);\n",
              "      filter: drop-shadow(0px 1px 2px rgba(0, 0, 0, 0.3));\n",
              "      fill: #FFFFFF;\n",
              "    }\n",
              "  </style>\n",
              "\n",
              "      <script>\n",
              "        const buttonEl =\n",
              "          document.querySelector('#df-9e1e5911-e942-4a41-b21c-457b842e1a98 button.colab-df-convert');\n",
              "        buttonEl.style.display =\n",
              "          google.colab.kernel.accessAllowed ? 'block' : 'none';\n",
              "\n",
              "        async function convertToInteractive(key) {\n",
              "          const element = document.querySelector('#df-9e1e5911-e942-4a41-b21c-457b842e1a98');\n",
              "          const dataTable =\n",
              "            await google.colab.kernel.invokeFunction('convertToInteractive',\n",
              "                                                     [key], {});\n",
              "          if (!dataTable) return;\n",
              "\n",
              "          const docLinkHtml = 'Like what you see? Visit the ' +\n",
              "            '<a target=\"_blank\" href=https://colab.research.google.com/notebooks/data_table.ipynb>data table notebook</a>'\n",
              "            + ' to learn more about interactive tables.';\n",
              "          element.innerHTML = '';\n",
              "          dataTable['output_type'] = 'display_data';\n",
              "          await google.colab.output.renderOutput(dataTable, element);\n",
              "          const docLink = document.createElement('div');\n",
              "          docLink.innerHTML = docLinkHtml;\n",
              "          element.appendChild(docLink);\n",
              "        }\n",
              "      </script>\n",
              "    </div>\n",
              "  </div>\n",
              "  "
            ]
          },
          "metadata": {},
          "execution_count": 37
        }
      ]
    },
    {
      "cell_type": "code",
      "source": [
        "class perceptron1:\n",
        "  def __init__(self):\n",
        "    np.random.seed(413)\n",
        "    w1 = np.random.rand()*10\n",
        "    w2 = np.random.rand()*10\n",
        "    self.w = np.array([w1,w2])\n",
        "    self.bias = np.random.rand()*10\n",
        "        \n",
        "  def predict(self, x):\n",
        "    return np.dot(self.w, x) + self.bias\n",
        "    \n",
        "  def fC(self):\n",
        "    self.yp = self.predict(self.x)\n",
        "    return np.sum((self.yp - self.y)**2)\n",
        "    \n",
        "  def grad_fC(self):\n",
        "    self.yp = self.predict(self.x)\n",
        "    #print([np.sum(2*(self.yp - self.y)*self.x), sum(2*(self.yp - self.y))])\n",
        "    return [np.sum(2*(self.yp - self.y)*self.x), sum(2*(self.yp - self.y))] \n",
        " \n",
        "  def improve(self):\n",
        "    alpha = 1e-7 \n",
        "    self.w -= alpha*self.grad_fC()[0]\n",
        "    self.bias -= alpha*self.grad_fC()[1]\n",
        "        \n",
        "  def train(self, x, y, epochs):\n",
        "    self.x = x\n",
        "    self.y = y\n",
        "    self.yp = self.predict(self.x) \n",
        "    history = np.zeros(epochs)\n",
        "    for i in range(epochs):\n",
        "      history[i] = self.fC()\n",
        "      self.improve()\n",
        "    return history"
      ],
      "metadata": {
        "id": "UaZK3ejt81nl"
      },
      "execution_count": null,
      "outputs": []
    },
    {
      "cell_type": "code",
      "source": [
        "x = np.array(data['x'])\n",
        "y = np.array(data['y'])\n",
        "X = np.array([x,y])\n",
        "phi = np.array(data['phi'])\n",
        "\n",
        "p = perceptron1()\n",
        "epochs = 1500000\n",
        "history = p.train(X, phi, epochs)\n",
        "print(r'f_c = ', history[0])\n",
        "print(r'Función de costo final con ', epoch,'epocas =' , history[-1])\n",
        "print('w1=',p.w[0],'w2=',p.w[1],'b=',p.bias)\n"
      ],
      "metadata": {
        "id": "KG5UC0EsJKL1",
        "colab": {
          "base_uri": "https://localhost:8080/"
        },
        "outputId": "9115c120-541f-427a-bf06-f4e42e16c608"
      },
      "execution_count": null,
      "outputs": [
        {
          "output_type": "stream",
          "name": "stdout",
          "text": [
            "initial cost =  415226788.1077048\n",
            "final cost after 1500000 epochs =  256421437.8065375\n",
            "w1= -14.352607411384692 w2= -17.07003395268208 b= 1483.2324956131201\n"
          ]
        }
      ]
    },
    {
      "cell_type": "code",
      "source": [
        "xp = np.linspace(-30,130) \n",
        "yp = np.linspace(-30,130) \n",
        "Yp = p.w[0]*xp + p.w[1]*yp + p.bias\n",
        "plt.plot(xp, Yp, color = 'red')\n",
        "plt.scatter(data['x'],data['phi'])"
      ],
      "metadata": {
        "id": "SYwmyfCsQKVY",
        "colab": {
          "base_uri": "https://localhost:8080/",
          "height": 282
        },
        "outputId": "8536d18d-980d-4d3a-da17-361c7f1e062a"
      },
      "execution_count": null,
      "outputs": [
        {
          "output_type": "execute_result",
          "data": {
            "text/plain": [
              "<matplotlib.collections.PathCollection at 0x7f67831e4650>"
            ]
          },
          "metadata": {},
          "execution_count": 29
        },
        {
          "output_type": "display_data",
          "data": {
            "text/plain": [
              "<Figure size 432x288 with 1 Axes>"
            ],
            "image/png": "[encoded data removed]"
          },
          "metadata": {
            "needs_background": "light"
          }
        }
      ]
    },
    {
      "cell_type": "code",
      "source": [
        "class perceptron2:\n",
        "  def __init__(self):\n",
        "    np.random.seed(413)\n",
        "    w1 = np.random.rand()*10\n",
        "    w2 = np.random.rand()*10\n",
        "    self.w = np.array([w1,w2])\n",
        "    self.bias = np.random.rand()*10\n",
        "\n",
        "  def relu(self,z0):\n",
        "    z1 = np.zeros(z0)\n",
        "    for i in range(len(z0)):\n",
        "      if z0[i]>0:\n",
        "        z1[i] = z0[i]\n",
        "      else:\n",
        "        z1[0] = 0\n",
        "    return z1\n",
        "        \n",
        "  def predict(self, x):\n",
        "    z = np.dot(self.w, x) + self.bias\n",
        "    return self.relu(z) \n",
        "    \n",
        "  def fC(self):\n",
        "    self.yp = self.predict(self.x)\n",
        "    return np.sum((self.yp - self.y)**2)\n",
        "    \n",
        "  def grad_fC(self):\n",
        "    self.yp = self.predict(self.x)\n",
        "    #print([np.sum(2*(self.yp - self.y)*self.x), sum(2*(self.yp - self.y))])\n",
        "    return [np.sum(2*(self.yp - self.y)*self.x), sum(2*(self.yp - self.y))] \n",
        " \n",
        "  def improve(self):\n",
        "    alpha = 1e-9 # Learning Rate\n",
        "    self.w -= alpha*self.grad_fC()[0]\n",
        "    self.bias -= alpha*self.grad_fC()[1]\n",
        "        \n",
        "  def train(self, x, y, epochs):\n",
        "    self.x = x\n",
        "    self.y = y\n",
        "    self.yp = self.predict(self.x) # Initial prediction\n",
        "    history = np.zeros(epochs)\n",
        "    for i in range(epochs):\n",
        "      history[i] = self.fC()\n",
        "      self.improve()\n",
        "    return history"
      ],
      "metadata": {
        "id": "tHrlb1M0UCgL"
      },
      "execution_count": null,
      "outputs": []
    },
    {
      "cell_type": "code",
      "source": [
        "x2 = np.array(data['x'])\n",
        "y2 = np.array(data['y'])\n",
        "X2 = np.array([x2,y2])\n",
        "phi2 = np.array(data['phi'])\n",
        "\n",
        "p2 = perceptron2()\n",
        "epochs2 = 14000\n",
        "history2 = p2.train(X2, phi2, epochs2)\n",
        "print('initial cost = ', history2[0])\n",
        "print(f'final cost after {epochs2:.0f} epochs = ', history2[-1])\n",
        "print('w1=',p2.w[0],'w2=',p2.w[1],'b=',p2.bias)"
      ],
      "metadata": {
        "colab": {
          "base_uri": "https://localhost:8080/"
        },
        "id": "cVeL9bQxu8NC",
        "outputId": "66fa3a87-e971-48da-c994-189f9822669a"
      },
      "execution_count": null,
      "outputs": [
        {
          "output_type": "stream",
          "name": "stdout",
          "text": [
            "initial cost =  413770349.28163874\n",
            "final cost after 14000 epochs =  346596614.80511487\n",
            "w1= -8.963269437807245 w2= -11.680695979111908 b= 2.689335881818462\n"
          ]
        }
      ]
    },
    {
      "cell_type": "code",
      "source": [
        "xp1 = np.linspace(-30,130) \n",
        "yp1 = np.linspace(-30,130) \n",
        "Yp1 = p2.w[0]*xp1 + p2.w[1]*yp1 + p2.bias\n",
        "plt.plot(xp1, Yp1, color = 'red')\n",
        "plt.scatter(data['x'],data['phi'])"
      ],
      "metadata": {
        "colab": {
          "base_uri": "https://localhost:8080/",
          "height": 282
        },
        "id": "gDrZRATE-don",
        "outputId": "135f40b5-4da2-4d96-f79a-2468f95df879"
      },
      "execution_count": null,
      "outputs": [
        {
          "output_type": "execute_result",
          "data": {
            "text/plain": [
              "<matplotlib.collections.PathCollection at 0x7f47b3483290>"
            ]
          },
          "metadata": {},
          "execution_count": 81
        },
        {
          "output_type": "display_data",
          "data": {
            "text/plain": [
              "<Figure size 432x288 with 1 Axes>"
            ],
            "image/png": "[encoded data removed]"
          },
          "metadata": {
            "needs_background": "light"
          }
        }
      ]
    },
    {
      "cell_type": "markdown",
      "source": [
        "--------\n",
        "##Implementación no-lineal"
      ],
      "metadata": {
        "id": "VEoNEyFUotQW"
      }
    },
    {
      "cell_type": "code",
      "source": [
        "#Datos 2\n",
        "data2=pd.read_csv('/content/drive/Shareddrives/Astrofísica Computacional/Taller8/data02.csv')\n",
        "data2"
      ],
      "metadata": {
        "id": "X25n6GDrvwZ4",
        "colab": {
          "base_uri": "https://localhost:8080/",
          "height": 424
        },
        "outputId": "754e0c03-4cf6-4556-bbf4-72f318f5fc3f"
      },
      "execution_count": null,
      "outputs": [
        {
          "output_type": "execute_result",
          "data": {
            "text/plain": [
              "     Unnamed: 0          x          psi\n",
              "0             0  48.517682  3813.612730\n",
              "1             1   7.756284   -40.293225\n",
              "2             2 -38.308013  3603.551985\n",
              "3             3  37.884936  2167.607856\n",
              "4             4  22.861635   612.799280\n",
              "..          ...        ...          ...\n",
              "195         195  70.160036  8560.980559\n",
              "196         196 -20.880126  1226.801640\n",
              "197         197  69.542900  8399.657767\n",
              "198         198 -34.494058  2979.573084\n",
              "199         199  26.131566   874.349294\n",
              "\n",
              "[200 rows x 3 columns]"
            ],
            "text/html": [
              "\n",
              "  <div id=\"df-b71c42f4-8794-46cd-80c7-72a12f6d3a9f\">\n",
              "    <div class=\"colab-df-container\">\n",
              "      <div>\n",
              "<style scoped>\n",
              "    .dataframe tbody tr th:only-of-type {\n",
              "        vertical-align: middle;\n",
              "    }\n",
              "\n",
              "    .dataframe tbody tr th {\n",
              "        vertical-align: top;\n",
              "    }\n",
              "\n",
              "    .dataframe thead th {\n",
              "        text-align: right;\n",
              "    }\n",
              "</style>\n",
              "<table border=\"1\" class=\"dataframe\">\n",
              "  <thead>\n",
              "    <tr style=\"text-align: right;\">\n",
              "      <th></th>\n",
              "      <th>Unnamed: 0</th>\n",
              "      <th>x</th>\n",
              "      <th>psi</th>\n",
              "    </tr>\n",
              "  </thead>\n",
              "  <tbody>\n",
              "    <tr>\n",
              "      <th>0</th>\n",
              "      <td>0</td>\n",
              "      <td>48.517682</td>\n",
              "      <td>3813.612730</td>\n",
              "    </tr>\n",
              "    <tr>\n",
              "      <th>1</th>\n",
              "      <td>1</td>\n",
              "      <td>7.756284</td>\n",
              "      <td>-40.293225</td>\n",
              "    </tr>\n",
              "    <tr>\n",
              "      <th>2</th>\n",
              "      <td>2</td>\n",
              "      <td>-38.308013</td>\n",
              "      <td>3603.551985</td>\n",
              "    </tr>\n",
              "    <tr>\n",
              "      <th>3</th>\n",
              "      <td>3</td>\n",
              "      <td>37.884936</td>\n",
              "      <td>2167.607856</td>\n",
              "    </tr>\n",
              "    <tr>\n",
              "      <th>4</th>\n",
              "      <td>4</td>\n",
              "      <td>22.861635</td>\n",
              "      <td>612.799280</td>\n",
              "    </tr>\n",
              "    <tr>\n",
              "      <th>...</th>\n",
              "      <td>...</td>\n",
              "      <td>...</td>\n",
              "      <td>...</td>\n",
              "    </tr>\n",
              "    <tr>\n",
              "      <th>195</th>\n",
              "      <td>195</td>\n",
              "      <td>70.160036</td>\n",
              "      <td>8560.980559</td>\n",
              "    </tr>\n",
              "    <tr>\n",
              "      <th>196</th>\n",
              "      <td>196</td>\n",
              "      <td>-20.880126</td>\n",
              "      <td>1226.801640</td>\n",
              "    </tr>\n",
              "    <tr>\n",
              "      <th>197</th>\n",
              "      <td>197</td>\n",
              "      <td>69.542900</td>\n",
              "      <td>8399.657767</td>\n",
              "    </tr>\n",
              "    <tr>\n",
              "      <th>198</th>\n",
              "      <td>198</td>\n",
              "      <td>-34.494058</td>\n",
              "      <td>2979.573084</td>\n",
              "    </tr>\n",
              "    <tr>\n",
              "      <th>199</th>\n",
              "      <td>199</td>\n",
              "      <td>26.131566</td>\n",
              "      <td>874.349294</td>\n",
              "    </tr>\n",
              "  </tbody>\n",
              "</table>\n",
              "<p>200 rows × 3 columns</p>\n",
              "</div>\n",
              "      <button class=\"colab-df-convert\" onclick=\"convertToInteractive('df-b71c42f4-8794-46cd-80c7-72a12f6d3a9f')\"\n",
              "              title=\"Convert this dataframe to an interactive table.\"\n",
              "              style=\"display:none;\">\n",
              "        \n",
              "  <svg xmlns=\"http://www.w3.org/2000/svg\" height=\"24px\"viewBox=\"0 0 24 24\"\n",
              "       width=\"24px\">\n",
              "    <path d=\"M0 0h24v24H0V0z\" fill=\"none\"/>\n",
              "    <path d=\"M18.56 5.44l.94 2.06.94-2.06 2.06-.94-2.06-.94-.94-2.06-.94 2.06-2.06.94zm-11 1L8.5 8.5l.94-2.06 2.06-.94-2.06-.94L8.5 2.5l-.94 2.06-2.06.94zm10 10l.94 2.06.94-2.06 2.06-.94-2.06-.94-.94-2.06-.94 2.06-2.06.94z\"/><path d=\"M17.41 7.96l-1.37-1.37c-.4-.4-.92-.59-1.43-.59-.52 0-1.04.2-1.43.59L10.3 9.45l-7.72 7.72c-.78.78-.78 2.05 0 2.83L4 21.41c.39.39.9.59 1.41.59.51 0 1.02-.2 1.41-.59l7.78-7.78 2.81-2.81c.8-.78.8-2.07 0-2.86zM5.41 20L4 18.59l7.72-7.72 1.47 1.35L5.41 20z\"/>\n",
              "  </svg>\n",
              "      </button>\n",
              "      \n",
              "  <style>\n",
              "    .colab-df-container {\n",
              "      display:flex;\n",
              "      flex-wrap:wrap;\n",
              "      gap: 12px;\n",
              "    }\n",
              "\n",
              "    .colab-df-convert {\n",
              "      background-color: #E8F0FE;\n",
              "      border: none;\n",
              "      border-radius: 50%;\n",
              "      cursor: pointer;\n",
              "      display: none;\n",
              "      fill: #1967D2;\n",
              "      height: 32px;\n",
              "      padding: 0 0 0 0;\n",
              "      width: 32px;\n",
              "    }\n",
              "\n",
              "    .colab-df-convert:hover {\n",
              "      background-color: #E2EBFA;\n",
              "      box-shadow: 0px 1px 2px rgba(60, 64, 67, 0.3), 0px 1px 3px 1px rgba(60, 64, 67, 0.15);\n",
              "      fill: #174EA6;\n",
              "    }\n",
              "\n",
              "    [theme=dark] .colab-df-convert {\n",
              "      background-color: #3B4455;\n",
              "      fill: #D2E3FC;\n",
              "    }\n",
              "\n",
              "    [theme=dark] .colab-df-convert:hover {\n",
              "      background-color: #434B5C;\n",
              "      box-shadow: 0px 1px 3px 1px rgba(0, 0, 0, 0.15);\n",
              "      filter: drop-shadow(0px 1px 2px rgba(0, 0, 0, 0.3));\n",
              "      fill: #FFFFFF;\n",
              "    }\n",
              "  </style>\n",
              "\n",
              "      <script>\n",
              "        const buttonEl =\n",
              "          document.querySelector('#df-b71c42f4-8794-46cd-80c7-72a12f6d3a9f button.colab-df-convert');\n",
              "        buttonEl.style.display =\n",
              "          google.colab.kernel.accessAllowed ? 'block' : 'none';\n",
              "\n",
              "        async function convertToInteractive(key) {\n",
              "          const element = document.querySelector('#df-b71c42f4-8794-46cd-80c7-72a12f6d3a9f');\n",
              "          const dataTable =\n",
              "            await google.colab.kernel.invokeFunction('convertToInteractive',\n",
              "                                                     [key], {});\n",
              "          if (!dataTable) return;\n",
              "\n",
              "          const docLinkHtml = 'Like what you see? Visit the ' +\n",
              "            '<a target=\"_blank\" href=https://colab.research.google.com/notebooks/data_table.ipynb>data table notebook</a>'\n",
              "            + ' to learn more about interactive tables.';\n",
              "          element.innerHTML = '';\n",
              "          dataTable['output_type'] = 'display_data';\n",
              "          await google.colab.output.renderOutput(dataTable, element);\n",
              "          const docLink = document.createElement('div');\n",
              "          docLink.innerHTML = docLinkHtml;\n",
              "          element.appendChild(docLink);\n",
              "        }\n",
              "      </script>\n",
              "    </div>\n",
              "  </div>\n",
              "  "
            ]
          },
          "metadata": {},
          "execution_count": 3
        }
      ]
    },
    {
      "cell_type": "code",
      "source": [
        "class NoLinealPerceptron:\n",
        "  def __init__(self):\n",
        "    np.random.seed(413)\n",
        "    self.w1 = np.random.rand()*10\n",
        "    self.w2 = np.random.rand()*10\n",
        "    self.bias = np.random.rand()*10\n",
        "        \n",
        "  def predict(self, x):\n",
        "    return self.w1*(x**2) + self.w2*x + self.bias\n",
        "    \n",
        "  def fC(self):\n",
        "    self.yp = self.predict(self.x)\n",
        "    return np.sum((self.yp - self.y)**2)\n",
        "    \n",
        "  def grad_fC(self):\n",
        "    self.yp = self.predict(self.x)\n",
        "    return [sum(2*(self.yp - self.y)*(self.x**2)), sum(2*(self.yp - self.y)*self.x), sum(2*(self.yp - self.y))] \n",
        " \n",
        "  def improve(self):\n",
        "    alpha = 1e-11 \n",
        "    self.w1 -= alpha*self.grad_fC()[0]\n",
        "    self.w2 -= alpha*self.grad_fC()[1]\n",
        "    self.bias -= alpha*self.grad_fC()[2]\n",
        "        \n",
        "  def train(self, x, y, epochs):\n",
        "    self.x = x\n",
        "    self.y = y\n",
        "    self.yp = self.predict(self.x) \n",
        "    history = np.zeros(epochs)\n",
        "    for i in range(epochs):\n",
        "      history[i] = self.fC()\n",
        "      self.improve()\n",
        "    return history"
      ],
      "metadata": {
        "id": "aC567z3X66iG"
      },
      "execution_count": null,
      "outputs": []
    },
    {
      "cell_type": "code",
      "source": [
        "X3 = np.array(data2['x'])\n",
        "psi = np.array(data2['psi'])\n",
        "\n",
        "pnl = NoLinealPerceptron()\n",
        "epochs3 = 1000000\n",
        "history3 = pnl.train(X3, psi, epochs3)\n",
        "print('initial cost = ', history3[0])\n",
        "print(f'final cost after {epochs3:.0f} epochs = ', history3[-1])\n",
        "print('w1=',pnl.w1,'w2=',pnl.w2,'b=',pnl.bias)\n"
      ],
      "metadata": {
        "colab": {
          "base_uri": "https://localhost:8080/"
        },
        "id": "5fixdzGTtPGM",
        "outputId": "307b7887-8590-4062-b7c5-e2278477316d"
      },
      "execution_count": null,
      "outputs": [
        {
          "output_type": "stream",
          "name": "stdout",
          "text": [
            "initial cost =  52741589641.446045\n",
            "final cost after 1000000 epochs =  111098.3238205561\n",
            "w1= 1.9878799534756924 w2= -17.299348336733427 b= 0.8448286799212132\n"
          ]
        }
      ]
    },
    {
      "cell_type": "code",
      "source": [
        "xp2 = np.linspace(-50,100) \n",
        "Yp2 = pnl.w1*xp2**2 + pnl.w2*xp2 + pnl.bias\n",
        "plt.plot(xp2,Yp2, color = 'red')\n",
        "plt.scatter(data2['x'],data2['psi'])"
      ],
      "metadata": {
        "colab": {
          "base_uri": "https://localhost:8080/",
          "height": 282
        },
        "id": "j7Xz33Myunnz",
        "outputId": "74b6d2c0-c174-46ff-deb1-bb6aee05cccb"
      },
      "execution_count": null,
      "outputs": [
        {
          "output_type": "execute_result",
          "data": {
            "text/plain": [
              "<matplotlib.collections.PathCollection at 0x7f678301e910>"
            ]
          },
          "metadata": {},
          "execution_count": 34
        },
        {
          "output_type": "display_data",
          "data": {
            "text/plain": [
              "<Figure size 432x288 with 1 Axes>"
            ],
            "image/png": "[encoded data removed]"
          },
          "metadata": {
            "needs_background": "light"
          }
        }
      ]
    },
    {
      "cell_type": "code",
      "source": [],
      "metadata": {
        "id": "m15gssqUvXAV"
      },
      "execution_count": null,
      "outputs": []
    }
  ]
}